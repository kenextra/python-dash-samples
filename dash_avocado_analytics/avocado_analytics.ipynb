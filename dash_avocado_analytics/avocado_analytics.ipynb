{
 "metadata": {
  "language_info": {
   "codemirror_mode": {
    "name": "ipython",
    "version": 3
   },
   "file_extension": ".py",
   "mimetype": "text/x-python",
   "name": "python",
   "nbconvert_exporter": "python",
   "pygments_lexer": "ipython3",
   "version": "3.8.0-final"
  },
  "orig_nbformat": 2,
  "kernelspec": {
   "name": "python3",
   "display_name": "Python 3",
   "language": "python"
  }
 },
 "nbformat": 4,
 "nbformat_minor": 2,
 "cells": [
  {
   "cell_type": "code",
   "execution_count": 1,
   "metadata": {},
   "outputs": [],
   "source": [
    "import pandas as pd\n",
    "\n",
    "data = pd.read_csv('avocado.csv')\n",
    "data = data.query(\"type == 'conventional' and region == 'Albany'\")\n",
    "data['Date'] = pd.to_datetime(data['Date'], format='%Y-%m-%d')\n",
    "data.sort_values('Date', inplace=True)"
   ]
  },
  {
   "cell_type": "code",
   "execution_count": 2,
   "metadata": {},
   "outputs": [
    {
     "output_type": "execute_result",
     "data": {
      "text/plain": [
       "    Unnamed: 0       Date  AveragePrice  Total Volume     4046      4225  \\\n",
       "51          51 2015-01-04          1.22      40873.28  2819.50  28287.42   \n",
       "50          50 2015-01-11          1.24      41195.08  1002.85  31640.34   \n",
       "49          49 2015-01-18          1.17      44511.28   914.14  31540.32   \n",
       "48          48 2015-01-25          1.06      45147.50   941.38  33196.16   \n",
       "47          47 2015-02-01          0.99      70873.60  1353.90  60017.20   \n",
       "\n",
       "      4770  Total Bags  Small Bags  Large Bags  XLarge Bags          type  \\\n",
       "51   49.90     9716.46     9186.93      529.53          0.0  conventional   \n",
       "50  127.12     8424.77     8036.04      388.73          0.0  conventional   \n",
       "49  135.77    11921.05    11651.09      269.96          0.0  conventional   \n",
       "48  164.14    10845.82    10103.35      742.47          0.0  conventional   \n",
       "47  179.32     9323.18     9170.82      152.36          0.0  conventional   \n",
       "\n",
       "    year  region  \n",
       "51  2015  Albany  \n",
       "50  2015  Albany  \n",
       "49  2015  Albany  \n",
       "48  2015  Albany  \n",
       "47  2015  Albany  "
      ],
      "text/html": "<div>\n<style scoped>\n    .dataframe tbody tr th:only-of-type {\n        vertical-align: middle;\n    }\n\n    .dataframe tbody tr th {\n        vertical-align: top;\n    }\n\n    .dataframe thead th {\n        text-align: right;\n    }\n</style>\n<table border=\"1\" class=\"dataframe\">\n  <thead>\n    <tr style=\"text-align: right;\">\n      <th></th>\n      <th>Unnamed: 0</th>\n      <th>Date</th>\n      <th>AveragePrice</th>\n      <th>Total Volume</th>\n      <th>4046</th>\n      <th>4225</th>\n      <th>4770</th>\n      <th>Total Bags</th>\n      <th>Small Bags</th>\n      <th>Large Bags</th>\n      <th>XLarge Bags</th>\n      <th>type</th>\n      <th>year</th>\n      <th>region</th>\n    </tr>\n  </thead>\n  <tbody>\n    <tr>\n      <th>51</th>\n      <td>51</td>\n      <td>2015-01-04</td>\n      <td>1.22</td>\n      <td>40873.28</td>\n      <td>2819.50</td>\n      <td>28287.42</td>\n      <td>49.90</td>\n      <td>9716.46</td>\n      <td>9186.93</td>\n      <td>529.53</td>\n      <td>0.0</td>\n      <td>conventional</td>\n      <td>2015</td>\n      <td>Albany</td>\n    </tr>\n    <tr>\n      <th>50</th>\n      <td>50</td>\n      <td>2015-01-11</td>\n      <td>1.24</td>\n      <td>41195.08</td>\n      <td>1002.85</td>\n      <td>31640.34</td>\n      <td>127.12</td>\n      <td>8424.77</td>\n      <td>8036.04</td>\n      <td>388.73</td>\n      <td>0.0</td>\n      <td>conventional</td>\n      <td>2015</td>\n      <td>Albany</td>\n    </tr>\n    <tr>\n      <th>49</th>\n      <td>49</td>\n      <td>2015-01-18</td>\n      <td>1.17</td>\n      <td>44511.28</td>\n      <td>914.14</td>\n      <td>31540.32</td>\n      <td>135.77</td>\n      <td>11921.05</td>\n      <td>11651.09</td>\n      <td>269.96</td>\n      <td>0.0</td>\n      <td>conventional</td>\n      <td>2015</td>\n      <td>Albany</td>\n    </tr>\n    <tr>\n      <th>48</th>\n      <td>48</td>\n      <td>2015-01-25</td>\n      <td>1.06</td>\n      <td>45147.50</td>\n      <td>941.38</td>\n      <td>33196.16</td>\n      <td>164.14</td>\n      <td>10845.82</td>\n      <td>10103.35</td>\n      <td>742.47</td>\n      <td>0.0</td>\n      <td>conventional</td>\n      <td>2015</td>\n      <td>Albany</td>\n    </tr>\n    <tr>\n      <th>47</th>\n      <td>47</td>\n      <td>2015-02-01</td>\n      <td>0.99</td>\n      <td>70873.60</td>\n      <td>1353.90</td>\n      <td>60017.20</td>\n      <td>179.32</td>\n      <td>9323.18</td>\n      <td>9170.82</td>\n      <td>152.36</td>\n      <td>0.0</td>\n      <td>conventional</td>\n      <td>2015</td>\n      <td>Albany</td>\n    </tr>\n  </tbody>\n</table>\n</div>"
     },
     "metadata": {},
     "execution_count": 2
    }
   ],
   "source": [
    "data.head()"
   ]
  },
  {
   "cell_type": "code",
   "execution_count": null,
   "metadata": {},
   "outputs": [],
   "source": []
  }
 ]
}